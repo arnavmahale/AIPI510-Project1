{
 "cells": [
  {
   "cell_type": "markdown",
   "id": "4c99e236-428f-4c30-8f5f-4e1f7dbe49dc",
   "metadata": {
    "vscode": {
     "languageId": "plaintext"
    }
   },
   "source": [
    "## <center>Health Insurance: Data vs. Reality - A Story</center>\n",
    "\n"
   ]
  },
  {
   "cell_type": "code",
   "execution_count": 19,
   "id": "aa4f5a69-a884-441f-bcb2-687a7d42769d",
   "metadata": {},
   "outputs": [],
   "source": [
    "import os\n",
    "import numpy\n",
    "import pandas as pd\n",
    "import matplotlib.pyplot as plt\n",
    "from sklearn.model_selection import train_test_split\n",
    "from sklearn.preprocessing import OneHotEncoder\n",
    "from sklearn.compose import ColumnTransformer\n",
    "from sklearn.pipeline import Pipeline\n",
    "from sklearn.linear_model import LinearRegression, RidgeCV, LassoCV\n",
    "from sklearn.metrics import mean_absolute_error, r2_score\n",
    "from pathlib import Path\n",
    "path = Path()\n",
    "\n",
    "filepath: Path = f\"{path}/insurance.csv\""
   ]
  },
  {
   "cell_type": "code",
   "execution_count": 27,
   "id": "294ff3fe-cd20-449d-b303-0bf55f4a194e",
   "metadata": {},
   "outputs": [],
   "source": [
    "def load_data(path: Path) -> pd.DataFrame:\n",
    "    return pd.read_csv(path)\n",
    "\n",
    "def engineer_features(df: pd.DataFrame) -> pd.DataFrame:\n",
    "    df_fe = df.copy()\n",
    "\n",
    "    # add a column for \"obesity\"\n",
    "    df_fe[\"obese\"] = (df_fe[\"bmi\"] >= 30).astype(int) # 1: obese, 0: not obese\n",
    "\n",
    "    # age buckets\n",
    "    bins = [0, 30, 45, 60, 200]\n",
    "    labels = [\"18–30\", \"31–45\", \"46–60\", \"61+\"]\n",
    "    df_fe[\"age_group\"] = pd.cut(df_fe[\"age\"], bins=bins, labels=labels, right=True, include_lowest=True)\n",
    "\n",
    "    return df_fe"
   ]
  },
  {
   "cell_type": "code",
   "execution_count": 28,
   "id": "5d23e861-ba09-44e8-ab0b-83d889a3def0",
   "metadata": {},
   "outputs": [
    {
     "name": "stdout",
     "output_type": "stream",
     "text": [
      "      age     sex     bmi  children smoker     region      charges  obese  \\\n",
      "0      19  female  27.900         0    yes  southwest  16884.92400      0   \n",
      "1      18    male  33.770         1     no  southeast   1725.55230      1   \n",
      "2      28    male  33.000         3     no  southeast   4449.46200      1   \n",
      "3      33    male  22.705         0     no  northwest  21984.47061      0   \n",
      "4      32    male  28.880         0     no  northwest   3866.85520      0   \n",
      "...   ...     ...     ...       ...    ...        ...          ...    ...   \n",
      "1333   50    male  30.970         3     no  northwest  10600.54830      1   \n",
      "1334   18  female  31.920         0     no  northeast   2205.98080      1   \n",
      "1335   18  female  36.850         0     no  southeast   1629.83350      1   \n",
      "1336   21  female  25.800         0     no  southwest   2007.94500      0   \n",
      "1337   61  female  29.070         0    yes  northwest  29141.36030      0   \n",
      "\n",
      "     age_group  \n",
      "0        18–30  \n",
      "1        18–30  \n",
      "2        18–30  \n",
      "3        31–45  \n",
      "4        31–45  \n",
      "...        ...  \n",
      "1333     46–60  \n",
      "1334     18–30  \n",
      "1335     18–30  \n",
      "1336     18–30  \n",
      "1337       61+  \n",
      "\n",
      "[1338 rows x 9 columns]\n"
     ]
    }
   ],
   "source": [
    "def main():\n",
    "    # load the data\n",
    "    df = load_data(filepath)\n",
    "\n",
    "    # feature engineering\n",
    "    df_fe = engineer_features(df)\n",
    "\n",
    "    print(df_fe)\n",
    "\n",
    "if __name__ == \"__main__\":\n",
    "    main()"
   ]
  },
  {
   "cell_type": "code",
   "execution_count": null,
   "id": "c481420b-7ada-40bc-8a31-e1668887fe7b",
   "metadata": {},
   "outputs": [],
   "source": []
  }
 ],
 "metadata": {
  "kernelspec": {
   "display_name": "Python 3 (ipykernel)",
   "language": "python",
   "name": "python3"
  },
  "language_info": {
   "codemirror_mode": {
    "name": "ipython",
    "version": 3
   },
   "file_extension": ".py",
   "mimetype": "text/x-python",
   "name": "python",
   "nbconvert_exporter": "python",
   "pygments_lexer": "ipython3",
   "version": "3.13.7"
  }
 },
 "nbformat": 4,
 "nbformat_minor": 5
}
